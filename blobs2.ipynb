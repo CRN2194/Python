{
 "cells": [
  {
   "cell_type": "code",
   "execution_count": 7,
   "metadata": {},
   "outputs": [
    {
     "name": "stdout",
     "output_type": "stream",
     "text": [
      "Using matplotlib backend: TkAgg\n",
      "Populating the interactive namespace from numpy and matplotlib\n"
     ]
    }
   ],
   "source": [
    "from skimage import io\n",
    "import numpy\n",
    "import cv2\n",
    "%pylab\n",
    "%matplotlib inline"
   ]
  },
  {
   "cell_type": "code",
   "execution_count": 8,
   "metadata": {},
   "outputs": [
    {
     "data": {
      "image/png": "[encoded data removed]",
      "text/plain": [
       "<matplotlib.figure.Figure at 0xa5d8cd2c>"
      ]
     },
     "metadata": {},
     "output_type": "display_data"
    }
   ],
   "source": [
    "dst=io.imread(\"/home/cesar/Desktop/1.png\")\n",
    "io.imshow(dst)\n"
   ]
  },
  {
   "cell_type": "code",
   "execution_count": 9,
   "metadata": {},
   "outputs": [
    {
     "data": {
      "image/png": "[encoded data removed]",
      "text/plain": [
       "<matplotlib.figure.Figure at 0xa5d3b1ac>"
      ]
     },
     "metadata": {},
     "output_type": "display_data"
    }
   ],
   "source": [
    "kernel = np.ones((3, 3), np.uint8)\n",
    "dilation = cv2.dilate(dst,kernel,iterations = 2)\n",
    "erosion = cv2.erode(dilation,kernel,iterations = 3)\n",
    "io.imshow(erosion)"
   ]
  },
  {
   "cell_type": "code",
   "execution_count": 11,
   "metadata": {},
   "outputs": [
    {
     "ename": "error",
     "evalue": "/io/opencv/modules/imgproc/src/connectedcomponents.cpp:3932: error: (-215) L.channels() == 1 && I.channels() == 1 in function connectedComponents_sub1\n",
     "output_type": "error",
     "traceback": [
      "\u001b[0;31m---------------------------------------------------------------------------\u001b[0m",
      "\u001b[0;31merror\u001b[0m                                     Traceback (most recent call last)",
      "\u001b[0;32m<ipython-input-11-c1fac3d376bf>\u001b[0m in \u001b[0;36m<module>\u001b[0;34m()\u001b[0m\n\u001b[1;32m      2\u001b[0m \u001b[0mim\u001b[0m\u001b[0;34m=\u001b[0m \u001b[0;36m255\u001b[0m\u001b[0;34m-\u001b[0m\u001b[0mmask\u001b[0m\u001b[0;34m\u001b[0m\u001b[0m\n\u001b[1;32m      3\u001b[0m \u001b[0;31m#find all your connected components (white blobs in your image)\u001b[0m\u001b[0;34m\u001b[0m\u001b[0;34m\u001b[0m\u001b[0m\n\u001b[0;32m----> 4\u001b[0;31m \u001b[0mnb_components\u001b[0m\u001b[0;34m,\u001b[0m \u001b[0moutput\u001b[0m\u001b[0;34m,\u001b[0m \u001b[0mstats\u001b[0m\u001b[0;34m,\u001b[0m \u001b[0mcentroids\u001b[0m \u001b[0;34m=\u001b[0m \u001b[0mcv2\u001b[0m\u001b[0;34m.\u001b[0m\u001b[0mconnectedComponentsWithStats\u001b[0m\u001b[0;34m(\u001b[0m\u001b[0mim\u001b[0m\u001b[0;34m,\u001b[0m \u001b[0mconnectivity\u001b[0m\u001b[0;34m=\u001b[0m\u001b[0;36m8\u001b[0m\u001b[0;34m)\u001b[0m\u001b[0;34m\u001b[0m\u001b[0m\n\u001b[0m\u001b[1;32m      5\u001b[0m \u001b[0;31m#connectedComponentswithStats yields every seperated component with information on each of them, such as size\u001b[0m\u001b[0;34m\u001b[0m\u001b[0;34m\u001b[0m\u001b[0m\n\u001b[1;32m      6\u001b[0m \u001b[0;31m#the following part is just taking out the background which is also considered a component, but most of the time we don't want that.\u001b[0m\u001b[0;34m\u001b[0m\u001b[0;34m\u001b[0m\u001b[0m\n",
      "\u001b[0;31merror\u001b[0m: /io/opencv/modules/imgproc/src/connectedcomponents.cpp:3932: error: (-215) L.channels() == 1 && I.channels() == 1 in function connectedComponents_sub1\n"
     ]
    }
   ],
   "source": [
    "mask=np.uint8(erosion)\n",
    "im= 255-mask\n",
    "#find all your connected components (white blobs in your image)\n",
    "nb_components, output, stats, centroids = cv2.connectedComponentsWithStats(im, connectivity=8)\n",
    "#connectedComponentswithStats yields every seperated component with information on each of them, such as size\n",
    "#the following part is just taking out the background which is also considered a component, but most of the time we don't want that.\n",
    "\n",
    "\n",
    "# minimum size of particles we want to keep (number of pixels)\n",
    "#here, it's a fixed value, but you can set it as you want, eg the mean of the sizes or whatever\n",
    "min_size = 150  \n",
    "\n",
    "#your answer image\n",
    "img2 = np.zeros((output.shape))\n",
    "#for every component in the image, you keep it only if it's above min_size\n",
    "for i in range(0, nb_components):\n",
    "    if sizes[i] >= min_size:\n",
    "        img2[output == i + 1] = 255\n",
    "        \n",
    "io.imshow(img2)"
   ]
  },
  {
   "cell_type": "code",
   "execution_count": null,
   "metadata": {
    "collapsed": true
   },
   "outputs": [],
   "source": []
  }
 ],
 "metadata": {
  "kernelspec": {
   "display_name": "Python 3",
   "language": "python",
   "name": "python3"
  },
  "language_info": {
   "codemirror_mode": {
    "name": "ipython",
    "version": 3
   },
   "file_extension": ".py",
   "mimetype": "text/x-python",
   "name": "python",
   "nbconvert_exporter": "python",
   "pygments_lexer": "ipython3",
   "version": "3.5.2"
  }
 },
 "nbformat": 4,
 "nbformat_minor": 2
}
