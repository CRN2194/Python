{
 "cells": [
  {
   "cell_type": "code",
   "execution_count": 11,
   "metadata": {},
   "outputs": [
    {
     "name": "stdout",
     "output_type": "stream",
     "text": [
      "Using matplotlib backend: TkAgg\n",
      "Populating the interactive namespace from numpy and matplotlib\n",
      "255\n",
      "0\n",
      "68\n"
     ]
    },
    {
     "name": "stderr",
     "output_type": "stream",
     "text": [
      "/usr/local/lib/python3.5/dist-packages/IPython/core/magics/pylab.py:160: UserWarning: pylab import has clobbered these variables: ['plt']\n",
      "`%matplotlib` prevents importing * from pylab and numpy\n",
      "  \"\\n`%matplotlib` prevents importing * from pylab and numpy\"\n"
     ]
    },
    {
     "data": {
      "image/png": "[encoded data removed]",
      "text/plain": [
       "<matplotlib.figure.Figure at 0xa2e9d14c>"
      ]
     },
     "metadata": {},
     "output_type": "display_data"
    }
   ],
   "source": [
    "%pylab\n",
    "%matplotlib inline\n",
    "import cv2\n",
    "from skimage import io\n",
    "import numpy as np\n",
    "from matplotlib import pylab as plt\n",
    "im_1 = cv2.imread('/home/cesar/Desktop/1.png',cv2.IMREAD_GRAYSCALE)\n",
    "#im_2 = cv2.imread('/home/cesar/Desktop/datasetmini/blur.jpg',cv2.IMREAD_GRAYSCALE)\n",
    "\n",
    "print(ndarray.max(im_1))\n",
    "print(ndarray.min(im_1))\n",
    "im_1_inverse = 255-im_1\n",
    "ret, thresh = cv2.threshold(im_1,0,255,cv2.THRESH_BINARY+cv2.THRESH_OTSU)\n",
    "# You need to choose 4 or 8 for connectivity type\n",
    "connectivity = 4  \n",
    "# Perform the operation\n",
    "output = cv2.connectedComponentsWithStats(thresh, connectivity, cv2.CV_32S)\n",
    "# Get the results\n",
    "# The first cell is the number of labels\n",
    "num_labels = output[0]\n",
    "print(num_labels)\n",
    "# The second cell is the label matrix\n",
    "labels = output[1]\n",
    "\n",
    "#io.imshow(labels)\n",
    "# The third cell is the stat matrix\n",
    "stats = output[2]\n",
    "#print(stats)\n",
    "# The fourth cell is the centroid matrix\n",
    "centroids = output[3]\n",
    "#print(centroids)\n",
    "\n",
    "tamano=[labels[0].shape, labels[1].shape]\n",
    "\n",
    "#esta es la parte que quiero optimizar, anda muy lento. no se como guardar las variables x,y en una listay recorrerlacon un solo for\n",
    "for x in range(labels.shape[0]):\n",
    "    for y in range(labels.shape[1]):\n",
    "        \n",
    "        if (stats[(labels[x,y]),4] <=150)  and (stats[(labels[x,y]),4] != 0):\n",
    "            labels[x,y] = 0\n",
    "\n",
    "\n",
    "plt.imshow(labels)\n",
    "plt.show()"
   ]
  },
  {
   "cell_type": "code",
   "execution_count": 23,
   "metadata": {},
   "outputs": [
    {
     "data": {
      "image/png": "[encoded data removed]",
      "text/plain": [
       "<matplotlib.figure.Figure at 0xa3dce1ec>"
      ]
     },
     "metadata": {},
     "output_type": "display_data"
    }
   ],
   "source": [
    "dst=io.imread(\"/home/cesar/Desktop/1.png\")\n",
    "io.imshow(dst)\n"
   ]
  },
  {
   "cell_type": "code",
   "execution_count": 24,
   "metadata": {},
   "outputs": [
    {
     "name": "stdout",
     "output_type": "stream",
     "text": [
      "[[[  0   0   0 255]\n",
      "  [  0   0   0 255]\n",
      "  [  0   0   0 255]\n",
      "  ..., \n",
      "  [  0   0   0 255]\n",
      "  [  0   0   0 255]\n",
      "  [255 255 255 255]]\n",
      "\n",
      " [[  0   0   0 255]\n",
      "  [  0   0   0 255]\n",
      "  [  0   0   0 255]\n",
      "  ..., \n",
      "  [  0   0   0 255]\n",
      "  [  0   0   0 255]\n",
      "  [255 255 255 255]]\n",
      "\n",
      " [[  0   0   0 255]\n",
      "  [  0   0   0 255]\n",
      "  [  0   0   0 255]\n",
      "  ..., \n",
      "  [  0   0   0 255]\n",
      "  [  0   0   0 255]\n",
      "  [  0   0   0 255]]\n",
      "\n",
      " ..., \n",
      " [[  0   0   0 255]\n",
      "  [  0   0   0 255]\n",
      "  [  0   0   0 255]\n",
      "  ..., \n",
      "  [255 255 255 255]\n",
      "  [255 255 255 255]\n",
      "  [255 255 255 255]]\n",
      "\n",
      " [[  0   0   0 255]\n",
      "  [  0   0   0 255]\n",
      "  [  0   0   0 255]\n",
      "  ..., \n",
      "  [255 255 255 255]\n",
      "  [255 255 255 255]\n",
      "  [255 255 255 255]]\n",
      "\n",
      " [[  0   0   0 255]\n",
      "  [  0   0   0 255]\n",
      "  [  0   0   0 255]\n",
      "  ..., \n",
      "  [255 255 255 255]\n",
      "  [255 255 255 255]\n",
      "  [255 255 255 255]]]\n"
     ]
    },
    {
     "data": {
      "image/png": "[encoded data removed]",
      "text/plain": [
       "<matplotlib.figure.Figure at 0xa3ba9c4c>"
      ]
     },
     "metadata": {},
     "output_type": "display_data"
    }
   ],
   "source": [
    "kernel = np.ones((3, 3), np.uint8)\n",
    "dilation = cv2.dilate(dst,kernel,iterations = 2)\n",
    "erosion = cv2.erode(dilation,kernel,iterations = 3)\n",
    "io.imshow(erosion)\n",
    "print(erosion)"
   ]
  },
  {
   "cell_type": "code",
   "execution_count": 38,
   "metadata": {},
   "outputs": [
    {
     "ename": "error",
     "evalue": "/io/opencv/modules/imgproc/src/connectedcomponents.cpp:3932: error: (-215) L.channels() == 1 && I.channels() == 1 in function connectedComponents_sub1\n",
     "output_type": "error",
     "traceback": [
      "\u001b[0;31m---------------------------------------------------------------------------\u001b[0m",
      "\u001b[0;31merror\u001b[0m                                     Traceback (most recent call last)",
      "\u001b[0;32m<ipython-input-38-33190bfa4256>\u001b[0m in \u001b[0;36m<module>\u001b[0;34m()\u001b[0m\n\u001b[1;32m      2\u001b[0m \u001b[0mim_1_inverse\u001b[0m \u001b[0;34m=\u001b[0m \u001b[0;36m255\u001b[0m\u001b[0;34m-\u001b[0m\u001b[0mmask\u001b[0m\u001b[0;34m\u001b[0m\u001b[0m\n\u001b[1;32m      3\u001b[0m \u001b[0;34m\u001b[0m\u001b[0m\n\u001b[0;32m----> 4\u001b[0;31m \u001b[0mnb_components\u001b[0m\u001b[0;34m,\u001b[0m \u001b[0moutput\u001b[0m\u001b[0;34m,\u001b[0m \u001b[0mstats\u001b[0m\u001b[0;34m,\u001b[0m \u001b[0mcentroids\u001b[0m \u001b[0;34m=\u001b[0m \u001b[0mcv2\u001b[0m\u001b[0;34m.\u001b[0m\u001b[0mconnectedComponentsWithStats\u001b[0m\u001b[0;34m(\u001b[0m\u001b[0mmask\u001b[0m\u001b[0;34m,\u001b[0m \u001b[0mconnectivity\u001b[0m\u001b[0;34m=\u001b[0m\u001b[0;36m8\u001b[0m\u001b[0;34m)\u001b[0m\u001b[0;34m\u001b[0m\u001b[0m\n\u001b[0m\u001b[1;32m      5\u001b[0m \u001b[0;34m\u001b[0m\u001b[0m\n\u001b[1;32m      6\u001b[0m \u001b[0;34m\u001b[0m\u001b[0m\n",
      "\u001b[0;31merror\u001b[0m: /io/opencv/modules/imgproc/src/connectedcomponents.cpp:3932: error: (-215) L.channels() == 1 && I.channels() == 1 in function connectedComponents_sub1\n"
     ]
    }
   ],
   "source": [
    "mask=np.uint8(erosion)\n",
    "im_1_inverse = 255-mask\n",
    "\n",
    "nb_components, output, stats, centroids = cv2.connectedComponentsWithStats(im_1, connectivity=8)\n",
    "\n",
    "\n",
    "sizes=stats[1:,-1];\n",
    "nb_components= nb_components-1\n",
    "minsize=150\n",
    "filtered_mask= np.zeros((output.shape))\n",
    "print(filtered_mask)\n",
    "for i in range(0,nb_components):\n",
    "    if sizes[i]>=minsize:\n",
    "        filtered_mask[output==i+1]=255\n",
    "   \n",
    "plt.imshow(filtered_mask)\n",
    "plt.show()"
   ]
  },
  {
   "cell_type": "markdown",
   "metadata": {},
   "source": [
    "# Segmentacion\n"
   ]
  },
  {
   "cell_type": "code",
   "execution_count": 3,
   "metadata": {},
   "outputs": [
    {
     "name": "stdout",
     "output_type": "stream",
     "text": [
      "Using matplotlib backend: TkAgg\n",
      "Populating the interactive namespace from numpy and matplotlib\n"
     ]
    },
    {
     "name": "stderr",
     "output_type": "stream",
     "text": [
      "/usr/local/lib/python3.5/dist-packages/IPython/core/magics/pylab.py:160: UserWarning: pylab import has clobbered these variables: ['plt']\n",
      "`%matplotlib` prevents importing * from pylab and numpy\n",
      "  \"\\n`%matplotlib` prevents importing * from pylab and numpy\"\n"
     ]
    },
    {
     "name": "stdout",
     "output_type": "stream",
     "text": [
      "[[  0   0   0 ..., 255 255 255]\n",
      " [  0   0   0 ..., 255 255 255]\n",
      " [  0   0   0 ..., 255 255 255]\n",
      " ..., \n",
      " [  0   0   0 ...,   0   0   0]\n",
      " [  0   0   0 ...,   0   0   0]\n",
      " [  0   0   0 ...,   0   0   0]]\n"
     ]
    },
    {
     "data": {
      "image/png": "[encoded data removed]",
      "text/plain": [
       "<matplotlib.figure.Figure at 0xa4b64d4c>"
      ]
     },
     "metadata": {},
     "output_type": "display_data"
    }
   ],
   "source": [
    "%pylab\n",
    "%matplotlib inline\n",
    "import cv2\n",
    "from skimage import io\n",
    "import numpy as np\n",
    "from matplotlib import pylab as plt\n",
    "im=cv2.imread(\"/home/cesar/Desktop/datasetmini/train/35.jpg\")        \n",
    "im = cv2.cvtColor(im, cv2.COLOR_RGB2HSV)\n",
    "red1_low = np.array([0, 217, 83], dtype=np.uint8)\n",
    "red1_high = np.array([12, 255, 255], dtype=np.uint8)\n",
    "# red2\n",
    "red2_low = np.array([140, 120, 50], dtype=np.uint8)\n",
    "red2_high = np.array([179, 240, 235], dtype=np.uint8)\n",
    "# red4\n",
    "red4_low = np.array([140, 142, 102], dtype=np.uint8)\n",
    "red4_high = np.array([179, 255, 255], dtype=np.uint8)\n",
    "# red5 rose\n",
    "red5_low = np.array([160, 43, 58], dtype=np.uint8)\n",
    "red5_high = np.array([170, 196, 143], dtype=np.uint8)\n",
    "# blue\n",
    "blue1_low = np.array([115, 132, 160], dtype=np.uint8)\n",
    "blue1_high = np.array([130, 255, 255], dtype=np.uint8)\n",
    "# morado\n",
    "mo1_low = np.array([125, 76, 76], dtype=np.uint8)\n",
    "mo1_high = np.array([143, 255, 255], dtype=np.uint8)\n",
    "# yellow black\n",
    "yellow_lows = np.array([16, 226, 90], dtype=np.uint8)\n",
    "yellow_high = np.array([22, 255, 180], dtype=np.uint8)\n",
    "\n",
    "\n",
    "rojo1=np.array([0, 65, 75], dtype=np.uint8)\n",
    "rojo2=np.array([12, 255, 255], dtype=np.uint8)\n",
    "# Color ranges used for the specific channel\n",
    "rmask = cv2.inRange(im, rojo1, rojo2)\n",
    "r1mask = cv2.inRange(im, red1_low, red1_high)\n",
    "r2mask = cv2.inRange(im, red2_low, red2_high)\n",
    "r4mask = cv2.inRange(im, red4_low, red4_high)\n",
    "r5mask = cv2.inRange(im, red5_low, red5_high)\n",
    "#bmask = cv2.inRange(im, blue1_low, blue1_high)\n",
    "#m1mask = cv2.inRange(im, mo1_low, mo1_high)\n",
    "#ymask = cv2.inRange(im, yellow_lows, yellow_high)\n",
    "# Creation of the mask, which will add all previously used ranges\n",
    "mask = cv2.add(r1mask, r2mask)\n",
    "mask = cv2.add(mask, r4mask)\n",
    "mask = cv2.add(mask, r5mask)\n",
    "#mask = cv2.add(mask, bmask)\n",
    "#mask = cv2.add(mask, m1mask)\n",
    "#mask = cv2.add(mask, ymask)\n",
    "#r1mask = cv2.inRange(im, rojo1, rojo2)\n",
    "\n",
    "\n",
    "#kerneld = np.ones((3, 3), np.uint8)\n",
    "#opening = cv2.morphologyEx(mask, cv2.MORPH_OPEN, kerneld)\n",
    "#closing = cv2.morphologyEx(opening, cv2.MORPH_CLOSE, kerneld)\n",
    "\n",
    "kerneld = np.ones((3,3),np.uint8)\n",
    "mask = cv2.dilate(rmask, kerneld, iterations=2)\n",
    "mask =cv2.erode(mask,kerneld, iterations=1)  \n",
    "\n",
    "\n",
    "print(closing)\n",
    "plt.imshow(rmask)\n",
    "plt.show()\n"
   ]
  },
  {
   "cell_type": "code",
   "execution_count": 10,
   "metadata": {},
   "outputs": [
    {
     "name": "stdout",
     "output_type": "stream",
     "text": [
      "Using matplotlib backend: TkAgg\n",
      "Populating the interactive namespace from numpy and matplotlib\n"
     ]
    },
    {
     "name": "stderr",
     "output_type": "stream",
     "text": [
      "/usr/local/lib/python3.5/dist-packages/IPython/core/magics/pylab.py:160: UserWarning: pylab import has clobbered these variables: ['plt', 'hsv']\n",
      "`%matplotlib` prevents importing * from pylab and numpy\n",
      "  \"\\n`%matplotlib` prevents importing * from pylab and numpy\"\n"
     ]
    },
    {
     "data": {
      "image/png": "[encoded data removed]",
      "text/plain": [
       "<matplotlib.figure.Figure at 0xa4bd058c>"
      ]
     },
     "metadata": {},
     "output_type": "display_data"
    }
   ],
   "source": [
    "%pylab\n",
    "%matplotlib inline\n",
    "import cv2\n",
    "from skimage import io\n",
    "import numpy as np\n",
    "from matplotlib import pylab as plt\n",
    "im=cv2.imread(\"/home/cesar/Desktop/datasetmini/train/35.jpg\")        \n",
    "hsv = cv2.cvtColor(im, cv2.COLOR_RGB2HSV)\n",
    "\n",
    "#Rojos:\n",
    "rojo_bajos1 = np.array([0,120,75], dtype=np.uint8)\n",
    "rojo_altos1 = np.array([12, 255, 255], dtype=np.uint8)\n",
    "rojo_bajos2 = np.array([240,65,75], dtype=np.uint8)\n",
    "rojo_altos2 = np.array([256, 255, 255], dtype=np.uint8)\n",
    "#Azules:\n",
    "azul_bajos = np.array([100,65,75], dtype=np.uint8)\n",
    "azul_altos = np.array([130, 255, 255], dtype=np.uint8)\n",
    "# yellow \n",
    "yellow_lows = np.array([16, 226, 90], dtype=np.uint8)\n",
    "yellow_high = np.array([22, 255, 180], dtype=np.uint8)\n",
    "#Crear las mascaras\n",
    "mascara_rojo1 = cv2.inRange(hsv, rojo_bajos1, rojo_altos1)\n",
    "#mascara_rojo2 = cv2.inRange(hsv, rojo_bajos2, rojo_altos2)\n",
    "#mascara_azul = cv2.inRange(hsv, azul_bajos, azul_altos)\n",
    "#mascara_amarilla = cv2.inRange(hsv, azul_bajos, azul_altos)\n",
    "#Juntar todas las mascaras\n",
    "#mask = cv2.add(mascara_rojo1, mascara_rojo2)\n",
    "#mask = cv2.add(mask, mascara_azul)\n",
    "#mask = cv2.add(mask, mascara_amarilla)\n",
    "\n",
    "kerneld = np.ones((3, 3), np.uint8)\n",
    "opening = cv2.morphologyEx(mascara_rojo2, cv2.MORPH_OPEN, kerneld)\n",
    "closing = cv2.morphologyEx(opening, cv2.MORPH_CLOSE, kerneld)\n",
    "io.imshow(mascara_rojo1)\n"
   ]
  },
  {
   "cell_type": "code",
   "execution_count": null,
   "metadata": {
    "collapsed": true
   },
   "outputs": [],
   "source": []
  },
  {
   "cell_type": "code",
   "execution_count": 75,
   "metadata": {},
   "outputs": [
    {
     "data": {
      "image/png": "[encoded data removed]",
      "text/plain": [
       "<matplotlib.figure.Figure at 0xa4a79e8c>"
      ]
     },
     "metadata": {},
     "output_type": "display_data"
    }
   ],
   "source": [
    "maskb = np.uint8(closing)\n",
    "\n",
    "nb_components, output, stats, centroids = cv2.connectedComponentsWithStats(maskb, connectivity=8)\n",
    "\n",
    "sizes = stats[1:, -1];\n",
    "nb_components = nb_components - 1\n",
    "minsize = 310\n",
    "maxsize = 2000\n",
    "blobs = np.zeros((output.shape))\n",
    "for i in range(0, nb_components):\n",
    "    if sizes[i] >= minsize and sizes[i]<=maxsize :\n",
    "        blobs[output == i + 1] = 255\n",
    "\n",
    "\n",
    "kerneld = np.ones((3,3),np.uint8)\n",
    "mask = cv2.dilate(blobs, kerneld, iterations=4)\n",
    "mask =cv2.erode(mask,kerneld, iterations=1)  \n",
    "io.imshow(mask)"
   ]
  },
  {
   "cell_type": "code",
   "execution_count": 102,
   "metadata": {
    "scrolled": true
   },
   "outputs": [
    {
     "name": "stdout",
     "output_type": "stream",
     "text": [
      "950\n",
      "[[      0       0    2048    2048 3940653]\n",
      " [    576       0       2       3       4]\n",
      " [    590       0       2       3       4]\n",
      " ..., \n",
      " [   1428    1251      52      18     620]\n",
      " [   1430    1265       1       1       1]\n",
      " [   1436    1268       1       1       1]]\n"
     ]
    },
    {
     "data": {
      "image/png": "[encoded data removed]",
      "text/plain": [
       "<matplotlib.figure.Figure at 0xa4b4bb8c>"
      ]
     },
     "metadata": {},
     "output_type": "display_data"
    }
   ],
   "source": [
    "\n",
    "\n",
    "\n",
    "\n",
    "\n",
    "ret, thresh = cv2.threshold(rmask,0,255,cv2.THRESH_BINARY+cv2.THRESH_OTSU)\n",
    "# You need to choose 4 or 8 for connectivity type\n",
    "connectivity = 4  \n",
    "# Perform the operation\n",
    "output = cv2.connectedComponentsWithStats(thresh, connectivity, cv2.CV_32S)\n",
    "# Get the results\n",
    "# The first cell is the number of labels\n",
    "num_labels = output[0]\n",
    "print(num_labels)\n",
    "# The second cell is the label matrix\n",
    "labels = output[1]\n",
    "\n",
    "#io.imshow(labels)\n",
    "# The third cell is the stat matrix\n",
    "stats = output[2]\n",
    "print(stats)\n",
    "# The fourth cell is the centroid matrix\n",
    "centroids = output[3]\n",
    "#print(centroids)\n",
    "\n",
    "\n",
    "\n",
    "for x in range(labels.shape[0]):\n",
    "    for y in range(labels.shape[1]):\n",
    "        if (stats[(labels[x,y]),4] <=100) and (stats[(labels[x,y]),4] >= 500):\n",
    "            labels[x,y] = 0\n",
    "            \n",
    "\n",
    "\n",
    "plt.imshow(labels)\n",
    "plt.show()"
   ]
  },
  {
   "cell_type": "code",
   "execution_count": null,
   "metadata": {
    "collapsed": true
   },
   "outputs": [],
   "source": []
  },
  {
   "cell_type": "code",
   "execution_count": null,
   "metadata": {
    "collapsed": true
   },
   "outputs": [],
   "source": []
  },
  {
   "cell_type": "code",
   "execution_count": 60,
   "metadata": {},
   "outputs": [
    {
     "name": "stdout",
     "output_type": "stream",
     "text": [
      "Using matplotlib backend: TkAgg\n",
      "Populating the interactive namespace from numpy and matplotlib\n",
      "255\n",
      "0\n",
      "4\n",
      "[[     0      0    537    411 133608]\n",
      " [   319     10    208    220  36240]\n",
      " [    10     39    217    139  30163]\n",
      " [   190    205    167    178  20696]]\n",
      "\n"
     ]
    },
    {
     "name": "stderr",
     "output_type": "stream",
     "text": [
      "/usr/local/lib/python3.5/dist-packages/IPython/core/magics/pylab.py:160: UserWarning: pylab import has clobbered these variables: ['plt']\n",
      "`%matplotlib` prevents importing * from pylab and numpy\n",
      "  \"\\n`%matplotlib` prevents importing * from pylab and numpy\"\n"
     ]
    },
    {
     "ename": "ValueError",
     "evalue": "The truth value of an array with more than one element is ambiguous. Use a.any() or a.all()",
     "output_type": "error",
     "traceback": [
      "\u001b[0;31m---------------------------------------------------------------------------\u001b[0m",
      "\u001b[0;31mValueError\u001b[0m                                Traceback (most recent call last)",
      "\u001b[0;32m<ipython-input-60-27150ed475c9>\u001b[0m in \u001b[0;36m<module>\u001b[0;34m()\u001b[0m\n\u001b[1;32m     37\u001b[0m     \u001b[0mx\u001b[0m\u001b[0;34m=\u001b[0m\u001b[0mz\u001b[0m\u001b[0;34m[\u001b[0m\u001b[0;34m:\u001b[0m\u001b[0;34m,\u001b[0m\u001b[0;36m0\u001b[0m\u001b[0;34m:\u001b[0m\u001b[0;36m1\u001b[0m\u001b[0;34m]\u001b[0m\u001b[0;34m\u001b[0m\u001b[0m\n\u001b[1;32m     38\u001b[0m     \u001b[0my\u001b[0m\u001b[0;34m=\u001b[0m\u001b[0mz\u001b[0m\u001b[0;34m[\u001b[0m\u001b[0;34m:\u001b[0m\u001b[0;34m,\u001b[0m\u001b[0;36m1\u001b[0m\u001b[0;34m:\u001b[0m\u001b[0;36m2\u001b[0m\u001b[0;34m]\u001b[0m\u001b[0;34m\u001b[0m\u001b[0m\n\u001b[0;32m---> 39\u001b[0;31m     \u001b[0;32mif\u001b[0m \u001b[0mstats\u001b[0m\u001b[0;34m[\u001b[0m\u001b[0;34m(\u001b[0m\u001b[0mlabels\u001b[0m\u001b[0;34m[\u001b[0m\u001b[0mx\u001b[0m\u001b[0;34m,\u001b[0m\u001b[0my\u001b[0m\u001b[0;34m]\u001b[0m\u001b[0;34m)\u001b[0m\u001b[0;34m,\u001b[0m\u001b[0;36m4\u001b[0m\u001b[0;34m]\u001b[0m\u001b[0;34m<=\u001b[0m\u001b[0;36m30000\u001b[0m\u001b[0;34m:\u001b[0m\u001b[0;34m\u001b[0m\u001b[0m\n\u001b[0m\u001b[1;32m     40\u001b[0m         \u001b[0;32mpass\u001b[0m\u001b[0;34m\u001b[0m\u001b[0m\n\u001b[1;32m     41\u001b[0m \u001b[0;34m\u001b[0m\u001b[0m\n",
      "\u001b[0;31mValueError\u001b[0m: The truth value of an array with more than one element is ambiguous. Use a.any() or a.all()"
     ]
    }
   ],
   "source": [
    "%pylab\n",
    "%matplotlib inline\n",
    "import cv2\n",
    "from skimage import io\n",
    "import numpy as np\n",
    "from matplotlib import pylab as plt\n",
    "im_1 = cv2.imread('/home/cesar/Desktop/blobs/blob1.tiff',cv2.IMREAD_GRAYSCALE)\n",
    "im_2 = cv2.imread('/home/cesar/Desktop/datasetmini/blur.jpg',cv2.IMREAD_GRAYSCALE)\n",
    "\n",
    "print(ndarray.max(im_2))\n",
    "print(ndarray.min(im_2))\n",
    "im_1_inverse = 255-im_1\n",
    "ret, thresh = cv2.threshold(im_1_inverse,0,255,cv2.THRESH_BINARY+cv2.THRESH_OTSU)\n",
    "# You need to choose 4 or 8 for connectivity type\n",
    "connectivity = 4  \n",
    "# Perform the operation\n",
    "output = cv2.connectedComponentsWithStats(thresh, connectivity, cv2.CV_32S)\n",
    "# Get the results\n",
    "# The first cell is the number of labels\n",
    "num_labels = output[0]\n",
    "print(num_labels)\n",
    "# The second cell is the label matrix\n",
    "labels = output[1]\n",
    "\n",
    "#io.imshow(labels)\n",
    "# The third cell is the stat matrix\n",
    "stats = output[2]\n",
    "print(stats)\n",
    "#print(stats[1])\n",
    "# The fourth cell is the centroid matrix\n",
    "centroids = output[0]\n",
    "#print(centroids)\n",
    "print()\n",
    "x=0\n",
    "y=0\n",
    "for z in stats[labels]:\n",
    "    x=z[z,0:1]\n",
    "    y=z[z,1:2]\n",
    "    if stats[(labels[x,y]),4]<=30000:\n",
    "        pass\n",
    "\n",
    "plt.imshow(labels)\n",
    "plt.show()\n",
    "\n"
   ]
  },
  {
   "cell_type": "code",
   "execution_count": null,
   "metadata": {
    "collapsed": true
   },
   "outputs": [],
   "source": []
  }
 ],
 "metadata": {
  "kernelspec": {
   "display_name": "Python 3",
   "language": "python",
   "name": "python3"
  },
  "language_info": {
   "codemirror_mode": {
    "name": "ipython",
    "version": 3
   },
   "file_extension": ".py",
   "mimetype": "text/x-python",
   "name": "python",
   "nbconvert_exporter": "python",
   "pygments_lexer": "ipython3",
   "version": "3.5.2"
  }
 },
 "nbformat": 4,
 "nbformat_minor": 2
}
