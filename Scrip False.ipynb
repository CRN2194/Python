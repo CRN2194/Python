{
 "cells": [
  {
   "cell_type": "code",
   "execution_count": 3,
   "metadata": {},
   "outputs": [
    {
     "name": "stdout",
     "output_type": "stream",
     "text": [
      "Using matplotlib backend: TkAgg\n",
      "Populating the interactive namespace from numpy and matplotlib\n"
     ]
    }
   ],
   "source": [
    "%pylab\n",
    "%matplotlib inline\n",
    "from skimage import io\n",
    "from glob import glob\n",
    "from os.path import join\n",
    "import numpy as np\n",
    "from skimage.color import gray2rgb\n",
    "from skimage.transform import resize\n",
    "from skimage.measure import label, regionprops\n",
    "from collections import namedtuple \n",
    "import os\n",
    "import random"
   ]
  },
  {
   "cell_type": "code",
   "execution_count": 192,
   "metadata": {},
   "outputs": [
    {
     "name": "stdout",
     "output_type": "stream",
     "text": [
      "(2048, 2048, 3)\n",
      "585 566 11 387\n",
      "566 585 11 387\n",
      "(19, 376, 3)\n"
     ]
    },
    {
     "data": {
      "image/png": "[encoded data removed]",
      "text/plain": [
       "<matplotlib.figure.Figure at 0xa72b758c>"
      ]
     },
     "metadata": {},
     "output_type": "display_data"
    }
   ],
   "source": [
    "path='/home/cesar/Desktop/dataset'\n",
    "num=6105\n",
    "# train\n",
    "Rect  = namedtuple('Rectangle','xmin ymin xmax ymax')\n",
    "train = glob(join(path,'train','*.jpg'))\n",
    "train_mask = [{'train':t, 'gt':t.replace('train','train_masks')} for t in train]\n",
    "rutefalse='/home/cesar/Desktop/testdataset/false'\n",
    "rute='/home/cesar/Desktop/ts'\n",
    "formate=\".jpg\"\n",
    "count=0\n",
    "train_im=io.imread(train_mask[0]['train'])\n",
    "#ranges=cube[170:330,270:430,:]\n",
    "\n",
    "print(train_im.shape)\n",
    "\n",
    "\n",
    "xminx=random.randrange(0,2048)\n",
    "xmaxx=random.randrange(0,2048)\n",
    "yminy=random.randrange(0,2048)\n",
    "ymaxy=random.randrange(0,2048)\n",
    "print(xminx,xmaxx,yminy,ymaxy)\n",
    "if (xminx > xmaxx ):\n",
    "    xminxx=xmaxx\n",
    "    xmaxxx=xminx\n",
    "    if(yminy > ymaxy):\n",
    "        yminyy=ymaxy\n",
    "        ymaxyy=yminy\n",
    "        print(xminxx,xmaxxx,yminyy,ymaxyy)        \n",
    "        ranges=train_im[xminxx:xmaxxx,yminyy:ymaxyy,:]\n",
    "\n",
    "    else:\n",
    "        \n",
    "        print(xminxx,xmaxxx,yminy,ymaxy)\n",
    "        ranges=train_im[xminxx:xmaxxx,yminy:ymaxy,:]\n",
    "    \n",
    "    \n",
    "\n",
    "        \n",
    "    \n",
    "else:\n",
    "    if (yminy > ymaxy):\n",
    "        yminyy=ymaxy\n",
    "        ymaxyy=yminy\n",
    "        if(xminx > xmaxx):\n",
    "            xminxx=xmaxx\n",
    "            xmaxxx=xminx\n",
    "            print(xminxx,xmaxxx,yminyy,ymaxyy)\n",
    "            ranges=train_im[xminxx:xmaxxx,yminyy:ymaxyy,:]\n",
    "      \n",
    "        else:\n",
    "            print(xminx,xmaxx,yminyy,ymaxyy)\n",
    "            ranges=train_im[xminx:xmaxx,yminyy:ymaxyy,:]\n",
    "\n",
    "if xminx<xmaxx and yminy < ymaxy:\n",
    "    print(xminx,xmaxx,yminy,ymaxy)\n",
    "    ranges=train_im[xminx:xmaxx,yminy:ymaxy,:]\n",
    "    \n",
    "\n",
    "print(ranges.shape)\n",
    "im_false_resize=resize(ranges,(32,32))\n",
    "io.imshow(im_false_resize)"
   ]
  },
  {
   "cell_type": "code",
   "execution_count": 114,
   "metadata": {},
   "outputs": [
    {
     "data": {
      "text/plain": [
       "812"
      ]
     },
     "execution_count": 114,
     "metadata": {},
     "output_type": "execute_result"
    }
   ],
   "source": [
    "random.randrange(0,2048)"
   ]
  },
  {
   "cell_type": "code",
   "execution_count": null,
   "metadata": {
    "collapsed": true
   },
   "outputs": [],
   "source": []
  },
  {
   "cell_type": "code",
   "execution_count": null,
   "metadata": {
    "collapsed": true
   },
   "outputs": [],
   "source": []
  },
  {
   "cell_type": "code",
   "execution_count": null,
   "metadata": {
    "collapsed": true
   },
   "outputs": [],
   "source": []
  }
 ],
 "metadata": {
  "kernelspec": {
   "display_name": "Python 3",
   "language": "python",
   "name": "python3"
  }
 },
 "nbformat": 4,
 "nbformat_minor": 2
}
