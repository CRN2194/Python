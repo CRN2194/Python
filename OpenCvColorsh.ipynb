{
 "cells": [
  {
   "cell_type": "code",
   "execution_count": 15,
   "metadata": {},
   "outputs": [
    {
     "name": "stdout",
     "output_type": "stream",
     "text": [
      "[[0 0 0 ..., 0 0 0]\n",
      " [0 0 0 ..., 0 0 0]\n",
      " [0 0 0 ..., 0 0 0]\n",
      " ..., \n",
      " [0 0 0 ..., 0 0 0]\n",
      " [0 0 0 ..., 0 0 0]\n",
      " [0 0 0 ..., 0 0 0]]\n"
     ]
    },
    {
     "data": {
      "image/png": "iVBORw0KGgoAAAANSUhEUgAAARIAAAEACAYAAAB/KfmzAAAABHNCSVQICAgIfAhkiAAAAAlwSFlz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\nRK5CYII=\n",
      "text/plain": [
       "<matplotlib.figure.Figure at 0xa75557ac>"
      ]
     },
     "metadata": {},
     "output_type": "display_data"
    }
   ],
   "source": [
    "import cv2\n",
    "import numpy as np\n",
    "from skimage import io\n",
    "\n",
    "%matplotlib inline\n",
    "image=cv2.imread(\"/home/cesar/Desktop/datasetmini/train/148.jpg\")\n",
    "b,g,r = cv2.split(image)       # get b,g,r\n",
    "rgb_img = cv2.merge([r,g,b])     # switch it to rgb\n",
    "\n",
    "#RGB :'C\n",
    "#Azul\n",
    "azullow=np.array([0,0,90],dtype=np.uint8)\n",
    "azulalto=np.array([15,30,255],dtype=np.uint8)\n",
    "mask = cv2.inRange(rgb_img,azullow,azulalto)\n",
    "print(mask)\n",
    "io.imshow(mask)\n"
   ]
  }

