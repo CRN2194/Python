{
 "cells": [
  {
   "cell_type": "code",
   "execution_count": 21,
   "metadata": {},
   "outputs": [],
   "source": [
    "from sigopt import Connection\n",
    "\n",
    "conn = Connection(client_token=\"UOZGJVJHBKQZUZQSBUJPOZFCYWPRREGTLSJFKSGOVVEQBRIF\")\n",
    "\n",
    "experiment = conn.experiments().create(\n",
    "  name=\"SVM Classifier\",\n",
    "  parameters=[\n",
    "    dict(\n",
    "      name=\"degree\",\n",
    "      bounds=dict(\n",
    "        min=2,\n",
    "        max=4\n",
    "        ),\n",
    "      type=\"int\"\n",
    "      ),\n",
    "    dict(\n",
    "      name=\"log_C\",\n",
    "      bounds=dict(\n",
    "        min=-11.5129,\n",
    "        max=0\n",
    "        ),\n",
    "      type=\"double\"\n",
    "      ),\n",
    "    dict(\n",
    "      name=\"gamma\",\n",
    "      bounds=dict(\n",
    "        min=0.000001,\n",
    "        max=1\n",
    "        ),\n",
    "      type=\"double\"\n",
    "      )\n",
    "    ],\n",
    "  metadata=dict(\n",
    "    template=\"python_sklearn_svc\"\n",
    "    ),\n",
    "  observation_budget=30\n",
    "  )\n"
   ]
  },
  {
   "cell_type": "code",
   "execution_count": 13,
   "metadata": {},
   "outputs": [
    {
     "name": "stdout",
     "output_type": "stream",
     "text": [
      "Using matplotlib backend: TkAgg\n",
      "Populating the interactive namespace from numpy and matplotlib\n"
     ]
    }
   ],
   "source": [
    "%pylab\n",
    "%matplotlib inline\n",
    "from skimage import io\n",
    "from glob import glob\n",
    "from os.path import join\n",
    "import numpy as np\n",
    "from skimage.color import gray2rgb\n",
    "from skimage.transform import resize\n",
    "from skimage.measure import label, regionprops\n",
    "from sklearn.externals import joblib\n",
    "from collections import namedtuple \n",
    "import os\n",
    "import random\n"
   ]
  },
  {
   "cell_type": "code",
   "execution_count": 14,
   "metadata": {},
   "outputs": [
    {
     "name": "stdout",
     "output_type": "stream",
     "text": [
      "uint8\n"
     ]
    }
   ],
   "source": [
    "path_train='/home/cesar/Desktop/testdataset'\n",
    "train = glob(join(path_train,'true','*.jpg'))\n",
    "img_train_labels = [{'imtrue':t, 'imfalse':t.replace('true','falserandom')} for t in train]\n",
    "train_test_labels=[] #lista de entrenamiento que contiene las etiquetas\n",
    "\n",
    "dataset =np.zeros((32304,3072), np.uint8)\n",
    "label= np.zeros((32304),np.uint8)\n",
    "d=np.zeros((32304),np.uint8)\n",
    "d\n",
    "i=0\n",
    "print(dataset.dtype)\n",
    "for labels in range(16152):\n",
    "    train_im_labels=io.imread(img_train_labels[labels]['imtrue'])\n",
    "    dataset[i] = np.reshape(train_im_labels, (3072))\n",
    "   \n",
    "    label[i] = 1\n",
    "    i = i + 1\n",
    "    train_false_labels=io.imread(img_train_labels[labels]['imfalse'])\n",
    "    dataset[i] = np.reshape(train_false_labels, (3072))\n",
    "    label[i] = 0\n",
    "    \n",
    "    i = i + 1"
   ]
  },
  {
   "cell_type": "code",
   "execution_count": 15,
   "metadata": {
    "collapsed": true
   },
   "outputs": [],
   "source": [
    "from skimage.feature import local_binary_pattern as lbp\n",
    "from skimage.color import rgb2gray\n",
    "newdataset=np.zeros((dataset.shape[0],8))\n",
    "for i,v in enumerate(dataset):\n",
    "    im=dataset[i]\n",
    "    datasetlbp=lbp(rgb2gray(np.reshape(im,(32,32,3))),8,3,method='uniform')\n",
    "  \n",
    "    hist= np.histogram(datasetlbp,normed=True, bins=8, range=(0, 8))\n",
    "    newdataset[i]=hist[0]"
   ]
  },
  {
   "cell_type": "code",
   "execution_count": null,
   "metadata": {
    "collapsed": true
   },
   "outputs": [],
   "source": [
    "from sklearn.svm import SVC\n",
    "clf = SVC(C=80)\n",
    "clf.fit(newdataset,label)"
   ]
  },
  {
   "cell_type": "code",
   "execution_count": 20,
   "metadata": {},
   "outputs": [
    {
     "name": "stdout",
     "output_type": "stream",
     "text": [
      "(32304, 8)\n",
      "(19382, 8)\n",
      "(19382,)\n"
     ]
    }
   ],
   "source": [
    "print(newdataset.shape)\n",
    "datatraining=newdataset[0:19382]\n",
    "labeltraining=label[0:19382]\n",
    "print(datatraining.shape)\n",
    "print(labeltraining.shape)"
   ]
  },
  {
   "cell_type": "code",
   "execution_count": 22,
   "metadata": {
    "collapsed": true
   },
   "outputs": [],
   "source": [
    "from sklearn.svm import SVC\n",
    "from sklearn import datasets\n",
    "from sklearn.model_selection import train_test_split, cross_val_score\n",
    "import math\n",
    "\n",
    "def create_model(assignments):\n",
    "    model = SVC(\n",
    "        degree=assignments['degree'],\n",
    "        C=math.exp(assignments['log_C']),\n",
    "        gamma=assignments['gamma'],\n",
    "    ).fit(newdataset,label)\n",
    "    return model\n",
    "\n",
    "def evaluate_model(assignments):\n",
    "    model = create_model(assignments)\n",
    "    return model.score(datatraining, labeltraining)"
   ]
  },
  {
   "cell_type": "code",
   "execution_count": null,
   "metadata": {},
   "outputs": [
    {
     "name": "stdout",
     "output_type": "stream",
     "text": [
      "Assignments({\n",
      "  \"degree\": 3,\n",
      "  \"gamma\": 1.0,\n",
      "  \"log_C\": 0.0\n",
      "})\n"
     ]
    }
   ],
   "source": [
    "for _ in range(experiment.observation_budget):\n",
    "    suggestion = conn.experiments(experiment.id).suggestions().create()\n",
    "    assignments = suggestion.assignments\n",
    "    value = evaluate_model(assignments)\n",
    "\n",
    "    conn.experiments(experiment.id).observations().create(\n",
    "        suggestion=suggestion.id,\n",
    "        value=value\n",
    "    )\n",
    "\n",
    "assignments = conn.experiments(experiment.id).best_assignments().fetch().data[0].assignments\n",
    "\n",
    "print(assignments)\n",
    "\n",
    "# This is a SigOpt-tuned model\n",
    "classifier = create_model(assignments)"
   ]
  },
  {
   "cell_type": "code",
   "execution_count": null,
   "metadata": {
    "collapsed": true
   },
   "outputs": [],
   "source": []
  }
 ],
 "metadata": {
  "kernelspec": {
   "display_name": "Python 3",
   "language": "python",
   "name": "python3"
  },
  "language_info": {
   "codemirror_mode": {
    "name": "ipython",
    "version": 3
   },
   "file_extension": ".py",
   "mimetype": "text/x-python",
   "name": "python",
   "nbconvert_exporter": "python",
   "pygments_lexer": "ipython3",
   "version": "3.5.2"
  }
 },
 "nbformat": 4,
 "nbformat_minor": 2
}
