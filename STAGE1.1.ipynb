{
 "cells": [
  {
   "cell_type": "markdown",
   "metadata": {},
   "source": [
    "# ejemplo1\n"
   ]
  },
  {
   "cell_type": "code",
   "execution_count": 4,
   "metadata": {},
   "outputs": [
    {
     "name": "stderr",
     "output_type": "stream",
     "text": [
      "ERROR:root:Line magic function `%paylab` not found.\n"
     ]
    },
    {
     "name": "stdout",
     "output_type": "stream",
     "text": [
      "Using matplotlib backend: TkAgg\n"
     ]
    }
   ],
   "source": [
    "from skimage import io\n",
    "import cv2\n",
    "import numpy as np;\n",
    "%paylab\n",
    "%matplotlib\n",
    " \n",
    "# Read image\n",
    "im = cv2.imread(\"/home/cesar/Desktop/blobs/blob2.tiff\", cv2.IMREAD_GRAYSCALE)\n",
    " \n",
    "# Blob detector parameters\n",
    "params = cv2.SimpleBlobDetector_Params()\n",
    "\n",
    "# Change thresholds\n",
    "params.minThreshold = 0;\n",
    "params.maxThreshold = 256;\n",
    "\n",
    "# Remove filters\n",
    "params.filterByArea = False\n",
    "params.filterByColor = False\n",
    "params.filterByCircularity = False\n",
    "params.filterByConvexity = False\n",
    "\n",
    "# Set up the detector with default parameters.\n",
    "detector = cv2.SimpleBlobDetector_create(params) \n",
    " \n",
    "# Detect blobs.\n",
    "keypoints = detector.detect(im)\n",
    " \n",
    "# Draw detected blobs as red circles.\n",
    "# cv2.DRAW_MATCHES_FLAGS_DRAW_RICH_KEYPOINTS ensures the size of the circle corresponds to the size of blob\n",
    "im_with_keypoints = cv2.drawKeypoints(im, keypoints, np.array([]), (0,0,255), cv2.DRAW_MATCHES_FLAGS_DRAW_RICH_KEYPOINTS)\n",
    " \n",
    "# Show keypoints\n",
    "io.imshow(im_with_keypoints)"
   ]
  },
  {
   "cell_type": "code",
   "execution_count": 9,
   "metadata": {
    "collapsed": true
   },
   "outputs": [],
   "source": [
    "# Setup SimpleBlobDetector parameters.\n",
    "params = cv2.SimpleBlobDetector_Params()\n",
    " \n",
    "# Change thresholds\n",
    "params.minThreshold = 10;\n",
    "params.maxThreshold = 200;\n",
    " \n",
    "# Filter by Area.\n",
    "params.filterByArea = True\n",
    "params.minArea = 1500\n",
    " \n",
    "# Filter by Circularity\n",
    "params.filterByCircularity = True\n",
    "params.minCircularity = 0.1\n",
    " \n",
    "# Filter by Convexity\n",
    "params.filterByConvexity = True\n",
    "params.minConvexity = 0.87\n",
    " \n",
    "# Filter by Inertia\n",
    "params.filterByInertia = True\n",
    "params.minInertiaRatio = 0.01\n",
    " \n",
    "# Create a detector with the parameters\n",
    "detector = cv2.SimpleBlobDetector_create(params)"
   ]
  },
  {
   "cell_type": "markdown",
   "metadata": {
    "collapsed": true
   },
   "source": [
    "# unido\n"
   ]
  },
  {
   "cell_type": "code",
   "execution_count": 3,
   "metadata": {},
   "outputs": [
    {
     "name": "stderr",
     "output_type": "stream",
     "text": [
      "ERROR:root:Line magic function `%paylab` not found.\n"
     ]
    },
    {
     "name": "stdout",
     "output_type": "stream",
     "text": [
      "Using matplotlib backend: TkAgg\n"
     ]
    }
   ],
   "source": [
    "from skimage import io\n",
    "import cv2\n",
    "import numpy as np;\n",
    "%paylab\n",
    "%matplotlib\n",
    " \n",
    "# Read image\n",
    "im = cv2.imread(\"/home/cesar/Desktop/blobs/blob2.tiff\", cv2.IMREAD_GRAYSCALE)\n",
    "# Setup SimpleBlobDetector parameters.\n",
    "params = cv2.SimpleBlobDetector_Params()\n",
    " \n",
    "# Change thresholds\n",
    "params.minThreshold = 10;\n",
    "params.maxThreshold = 200;\n",
    " \n",
    "# Filter by Area.\n",
    "params.filterByArea = True\n",
    "params.minArea = 1500\n",
    " \n",
    "# Filter by Circularity\n",
    "params.filterByCircularity = True\n",
    "params.minCircularity = 0.1\n",
    " \n",
    "# Filter by Convexity\n",
    "params.filterByConvexity = True\n",
    "params.minConvexity = 0.87\n",
    " \n",
    "# Filter by Inertia\n",
    "params.filterByInertia = True\n",
    "params.minInertiaRatio = 0.01\n",
    " \n",
    "# Create a detector with the parameters\n",
    "detector = cv2.SimpleBlobDetector_create(params)\n",
    "keypoints = detector.detect(im)\n",
    " \n",
    "# Draw detected blobs as red circles.\n",
    "# cv2.DRAW_MATCHES_FLAGS_DRAW_RICH_KEYPOINTS ensures the size of the circle corresponds to the size of blob\n",
    "im_with_keypoints = cv2.drawKeypoints(im, keypoints, np.array([]), (0,0,255), cv2.DRAW_MATCHES_FLAGS_DRAW_RICH_KEYPOINTS)\n",
    " \n",
    "# Show keypoints\n",
    "io.imshow(im_with_keypoints)\n"
   ]
  },
  {
   "cell_type": "code",
   "execution_count": 22,
   "metadata": {},
   "outputs": [
    {
     "name": "stdout",
     "output_type": "stream",
     "text": [
      "Using matplotlib backend: TkAgg\n",
      "Populating the interactive namespace from numpy and matplotlib\n"
     ]
    },
    {
     "data": {
      "image/png": "[encoded data removed]",
      "text/plain": [
       "<matplotlib.figure.Figure at 0xa493976c>"
      ]
     },
     "metadata": {},
     "output_type": "display_data"
    }
   ],
   "source": [
    "import cv2\n",
    "import numpy as np\n",
    "from skimage import io\n",
    "from matplotlib import pyplot as plt\n",
    "%pylab\n",
    "%matplotlib inline\n",
    "im=cv2.imread('/home/cesar/Desktop/datasetmini/train/23.jpg')\n",
    "im = cv2.cvtColor(im, cv2.COLOR_BGR2HSV)\n",
    "# red1\n",
    "red1_low = np.array([0, 217, 83], dtype=np.uint8)\n",
    "red1_high = np.array([10, 255, 255], dtype=np.uint8)\n",
    "# red2\n",
    "red2_low = np.array([155, 120, 50], dtype=np.uint8)\n",
    "red2_high = np.array([179, 240, 235], dtype=np.uint8)\n",
    "# red3 white\n",
    "red3_low = np.array([0, 89, 102], dtype=np.uint8)\n",
    "red3_high = np.array([10, 160, 150], dtype=np.uint8)\n",
    "# red4\n",
    "red4_low = np.array([150, 142, 102], dtype=np.uint8)\n",
    "red4_high = np.array([179, 204, 255], dtype=np.uint8)\n",
    "# red5 rose\n",
    "red5_low = np.array([160, 43, 58], dtype=np.uint8)\n",
    "red5_high = np.array([170, 196, 143], dtype=np.uint8)\n",
    "# blue\n",
    "blue1_low = np.array([115, 132, 160], dtype=np.uint8)\n",
    "blue1_high = np.array([130, 255, 255], dtype=np.uint8)\n",
    "# blue black\n",
    "blue2_low = np.array([115, 111, 76], dtype=np.uint8)\n",
    "blue2_high = np.array([135, 215, 102], dtype=np.uint8)\n",
    "# morado\n",
    "mo1_low = np.array([125, 76, 76], dtype=np.uint8)\n",
    "mo1_high = np.array([143, 255, 255], dtype=np.uint8)\n",
    "# celeste\n",
    "cel_low = np.array([105, 122, 165], dtype=np.uint8)\n",
    "cel_high = np.array([106, 230, 217], dtype=np.uint8)\n",
    "# yellow black\n",
    "yellow_lows = np.array([16, 226, 90], dtype=np.uint8) #226 # 90\n",
    "yellow_high = np.array([22, 255, 180], dtype=np.uint8)\n",
    "r1mask = cv2.inRange(im, red1_low, red1_high)\n",
    "r2mask = cv2.inRange(im, red2_low, red2_high)\n",
    "r3mask = cv2.inRange(im, red3_low, red3_high)\n",
    "r4mask = cv2.inRange(im, red4_low, red4_high)\n",
    "r5mask = cv2.inRange(im, red5_low, red5_high)\n",
    "bmask = cv2.inRange(im, blue1_low, blue1_high)\n",
    "#b2mask = cv2.inRange(im, blue2_low, blue2_high)\n",
    "m1mask = cv2.inRange(im, mo1_low, mo1_high)\n",
    "#cmask = cv2.inRange(im, cel_low, cel_high)\n",
    "ymask = cv2.inRange(im, yellow_lows, yellow_high)\n",
    "mask = cv2.add(r1mask, r2mask)\n",
    "#mask = cv2.add(mask, r3mask)\n",
    "mask = cv2.add(mask, r4mask)\n",
    "mask = cv2.add(mask, r5mask)\n",
    "mask = cv2.add(mask, bmask)\n",
    "#mask = cv2.add(mask, b2mask)\n",
    "mask = cv2.add(mask, m1mask)\n",
    "#mask = cv2.add(mask, cmask)\n",
    "mask = cv2.add(mask, ymask)\n",
    "\"\"\"\n",
    "kerneld = np.ones((3,3), np.uint8)\n",
    "mask = cv2.dilate(mask, kerneld, iterations=2)\n",
    "mask =cv2.erode(mask,kerneld, iterations=1)\n",
    "\"\"\"\"\"\n",
    "io.imshow(mask)\n",
    "\n",
    "kernel = np.ones((3,3),np.uint8)\n",
    "mask = cv2.morphologyEx(mask, cv2.MORPH_CLOSE,kernel)\n",
    "mask = cv2.morphologyEx(mask, cv2.MORPH_OPEN, kernel)\n",
    "\n",
    "\n",
    "\n"
   ]
  },
  {
   "cell_type": "code",
   "execution_count": null,
   "metadata": {
    "collapsed": true
   },
   "outputs": [],
   "source": []
  },
  {
   "cell_type": "code",
   "execution_count": null,
   "metadata": {
    "collapsed": true
   },
   "outputs": [],
   "source": []
  }
 ],
 "metadata": {
  "kernelspec": {
   "display_name": "Python 3",
   "language": "python",
   "name": "python3"
  },
  "language_info": {
   "codemirror_mode": {
    "name": "ipython",
    "version": 3
   },
   "file_extension": ".py",
   "mimetype": "text/x-python",
   "name": "python",
   "nbconvert_exporter": "python",
   "pygments_lexer": "ipython3",
   "version": "3.5.2"
  }
 },
 "nbformat": 4,
 "nbformat_minor": 2
}
