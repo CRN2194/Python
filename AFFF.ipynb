{
 "cells": [
  {
   "cell_type": "code",
   "execution_count": 2,
   "metadata": {
    "scrolled": true
   },
   "outputs": [
    {
     "name": "stdout",
     "output_type": "stream",
     "text": [
      "[[201 131 105]\n",
      " [201 129 104]\n",
      " [201 129 105]\n",
      " ..., \n",
      " [175  62  56]\n",
      " [214 109 106]\n",
      " [178  97  96]]\n",
      "\n",
      "[[False False False ..., False False False]\n",
      " [False False False ..., False False False]\n",
      " [False False False ..., False False False]\n",
      " ..., \n",
      " [False False False ..., False False False]\n",
      " [False False False ..., False False False]\n",
      " [False False False ..., False False False]]\n",
      "\n",
      "107.984429858\n",
      "237.984429858\n",
      "92.3181193711\n",
      "90.4507708747\n"
     ]
    },
    {
     "data": {
      "image/png": "[encoded data removed]",
      "text/plain": [
       "<matplotlib.figure.Figure at 0xb62c5b6c>"
      ]
     },
     "metadata": {},
     "output_type": "display_data"
    }
   ],
   "source": [
    "import numpy as np\n",
    "%matplotlib inline\n",
    "from mpl_toolkits.mplot3d.axes3d import Axes3D\n",
    "from skimage import color, exposure, io\n",
    "import pylab as pl\n",
    "\n",
    "img=io.imread('/home/cesar/Desktop/1484.jpg')\n",
    "\n",
    "rojo = ((img[:,:,0].astype(np.int16)-img[:,:,1].astype(np.int16))>=70) & ((img[:,:,0].astype(np.int16)-img[:,:,2].astype(np.int16))>=70)\n",
    "arr_r=img[rojo]\n",
    "azul= ((img[:,:,2].astype(np.int16)-img[:,:,0].astype(np.int16))>=70 ) & ((img[:,:,2].astype(np.int16)-img[:,:,1].astype(np.int16))>=70)\n",
    "arr_b=img[azul]\n",
    "#amarillo= ((img[:,:,0].astype(np.int16)-img[:,:,1].astype(int16))>=20) & ((img[:,:,0].astype(int16)-img[:,:,2].astype(int16))>=120)\n",
    "#arr_y=img[amarillo]\n",
    "\n",
    "print(arr_r)\n",
    "print()\n",
    "print(rojo)\n",
    "print()\n",
    "\n",
    "\n",
    "\n",
    "rmin=np.mean(arr_r[:,0])-65\n",
    "rmax=np.mean(arr_r[:,0])+65\n",
    "gmax=np.mean(arr_r[:,1])+35\n",
    "bmax=np.mean(arr_r[:,2])+35\n",
    "\n",
    "blmin=np.mean(arr_b[:,2])-65\n",
    "blmax=np.mean(arr_b[:,2])+65\n",
    "remax=np.mean(arr_b[:,0])+35\n",
    "grmax=np.mean(arr_b[:,1])+35\n",
    "\n",
    "print(rmin)\n",
    "print(rmax)\n",
    "print(gmax)\n",
    "print(bmax)\n",
    "\n",
    "\n",
    "\n",
    "mask = (img[:,:,0]>= rmin) & (img[:,:,0]<= rmax) &\\\n",
    "       (img[:,:,1]>= 0) & (img[:,:,1]<= gmax) &\\\n",
    "       (img[:,:,2]>= 0) & (img[:,:,2]<= bmax) |(\\\n",
    "       (img[:,:,0]>=0) & (img[:,:,0]<=remax) &\\\n",
    "       (img[:,:,1]>=0) & (img[:,:,1]<=grmax) &\\\n",
    "       (img[:,:,2]>=blmin) & (img[:,:,2]<=blmax))                                          \n",
    "\n",
    "io.imshow(mask)\n",
    "pl.show()"
   ]
  },
  {
   "cell_type": "code",
   "execution_count": null,
   "metadata": {
    "collapsed": true
   },
   "outputs": [],
   "source": [
    "img=io.imread('/home/cesar/Desktop/16940.jpg')\n",
    "\n",
    "amarillo= ((img[:,:,0].astype(np.int16)-img[:,:,1].astype(int16))>=20) & ((img[:,:,0].astype(int16)-img[:,:,2].astype(int16))>=120)\n",
    "arr_y=img[amarillo]\n",
    "\n",
    "rmin=np.mean(arr_r[:,0])-65\n",
    "rmax=np.mean(arr_r[:,0])+65\n",
    "gmax=np.mean(arr_r[:,1])+35\n",
    "bmax=np.mean(arr_r[:,2])+35\n",
    "\n",
    "mask = (img[:,:,0]>= rmin) & (img[:,:,0]<= rmax) &\\\n",
    "       (img[:,:,1]>= 0) & (img[:,:,1]<= gmax) &\\\n",
    "       (img[:,:,2]>= 0) & (img[:,:,2]<= bmax)                                        \n",
    "\n",
    "io.imshow(mask)\n",
    "pl.show()"
   ]
  },
  {
   "cell_type": "code",
   "execution_count": null,
   "metadata": {
    "collapsed": true
   },
   "outputs": [],
   "source": []
  }
 ],
 "metadata": {
  "kernelspec": {
   "display_name": "Python 3",
   "language": "python",
   "name": "python3"
  },
  "language_info": {
   "codemirror_mode": {
    "name": "ipython",
    "version": 3
   },
   "file_extension": ".py",
   "mimetype": "text/x-python",
   "name": "python",
   "nbconvert_exporter": "python",
   "pygments_lexer": "ipython3",
   "version": "3.5.2"
  }
 },
 "nbformat": 4,
 "nbformat_minor": 2
}
