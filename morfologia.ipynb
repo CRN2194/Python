{
 "cells": [
  {
   "cell_type": "code",
   "execution_count": 1,
   "metadata": {},
   "outputs": [
    {
     "name": "stdout",
     "output_type": "stream",
     "text": [
      "Using matplotlib backend: TkAgg\n",
      "Populating the interactive namespace from numpy and matplotlib\n",
      "Using matplotlib backend: TkAgg\n"
     ]
    }
   ],
   "source": [
    "import cv2\n",
    "import numpy as np\n",
    "from skimage import io \n",
    "%pylab\n",
    "%matplotlib\n",
    "alo=cv2.imread(\"/home/cesar/Desktop/datasetmini/ds.jpg\")\n",
    "kernel = np.ones((3,3),np.uint8)\n",
    "dilation = cv2.dilate(alo,kernel,iterations = 15)\n",
    "\n",
    "kernel = np.ones((3,3),np.uint8)\n",
    "eorsion = cv2.erode(alo,kernel,iterations = 1)\n",
    "\n",
    "kernel = np.ones((3,3),np.uint8)\n",
    "opening = cv2.morphologyEx(alo, cv2.MORPH_OPEN, kernel)\n",
    "\n",
    "kernel = np.ones((3,3),np.uint8)\n",
    "closing = cv2.morphologyEx(alo, cv2.MORPH_CLOSE, kernel)\n",
    "\n",
    "kernel = np.ones((3,3),np.uint8)\n",
    "tophat = cv2.morphologyEx(alo, cv2.MORPH_TOPHAT, kernel)\n",
    "\n",
    "kernel = np.ones((3,3),np.uint8)\n",
    "topblack = cv2.morphologyEx(alo, cv2.MORPH_BLACKHAT, kernel)\n",
    "\n",
    "io.imshow(topblack)\n"
   ]
  },
  {
   "cell_type": "code",
   "execution_count": null,
   "metadata": {
    "collapsed": true
   },
   "outputs": [],
   "source": [
    "alo=cv2.imread(\"/home/cesar/Desktop/datasetmini/ds.jpg\")\n",
    "kernel = np.ones((3,3),np.uint8)\n",
    "mask = cv2.morphologyEx(alo, cv2.MORPH_OPEN, kernel)\n",
    "mask = cv2.morphologyEx(alo, cv2.MORPH_CLOSE, kernel)"
   ]
  }
 ],
 "metadata": {
  "kernelspec": {
   "display_name": "Python 3",
   "language": "python",
   "name": "python3"
  },
  "language_info": {
   "codemirror_mode": {
    "name": "ipython",
    "version": 3
   },
   "file_extension": ".py",
   "mimetype": "text/x-python",
   "name": "python",
   "nbconvert_exporter": "python",
   "pygments_lexer": "ipython3",
   "version": "3.5.2"
  }
 },
 "nbformat": 4,
 "nbformat_minor": 2
}
