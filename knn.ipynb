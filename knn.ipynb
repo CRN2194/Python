{
 "cells": [
  {
   "cell_type": "code",
   "execution_count": 5,
   "metadata": {},
   "outputs": [
    {
     "name": "stdout",
     "output_type": "stream",
     "text": [
      "Using matplotlib backend: TkAgg\n",
      "Populating the interactive namespace from numpy and matplotlib\n"
     ]
    }
   ],
   "source": [
    "%pylab\n",
    "%matplotlib inline\n",
    "from skimage import io"
   ]
  },
  {
   "cell_type": "markdown",
   "metadata": {},
   "source": [
    "# KNN"
   ]
  },
  {
   "cell_type": "code",
   "execution_count": 4,
   "metadata": {},
   "outputs": [
    {
     "name": "stdout",
     "output_type": "stream",
     "text": [
      "(70000, 784)\n"
     ]
    }
   ],
   "source": [
    "from sklearn.datasets import fetch_mldata\n",
    "mnist= fetch_mldata('MNIST original', data_home='./')\n",
    "print(mnist['data'].shape) #60000 training 10000 test 28x28=784\n",
    "\n",
    "\n"
   ]
  },
  {
   "cell_type": "markdown",
   "metadata": {},
   "source": [
    "## Visualizedata"
   ]
  },
  {
   "cell_type": "code",
   "execution_count": 8,
   "metadata": {},
   "outputs": [
    {
     "name": "stdout",
     "output_type": "stream",
     "text": [
      "2\n"
     ]
    },
    {
     "data": {
      "image/png": "[encoded data removed]",
      "text/plain": [
       "<matplotlib.figure.Figure at 0xa442856c>"
      ]
     },
     "metadata": {},
     "output_type": "display_data"
    }
   ],
   "source": [
    "#reshape convierte el vector ej 784 28x28\n",
    "index=63000\n",
    "im=mnist['data'][1]\n",
    "a=mnist['data'][index].reshape((28,28)) # accediendo a la posicion del 0 del dataset\n",
    "io.imshow(a)\n",
    "b=mnist['target'][index] #Primera etiqueta \n",
    "print(int32(b))"
   ]
  },
  {
   "cell_type": "raw",
   "metadata": {},
   "source": [
    "# Reduccion"
   ]
  },
  {
   "cell_type": "code",
   "execution_count": 9,
   "metadata": {},
   "outputs": [
    {
     "ename": "ValueError",
     "evalue": "cannot resize this array: it does not own its data",
     "output_type": "error",
     "traceback": [
      "\u001b[0;31m---------------------------------------------------------------------------\u001b[0m",
      "\u001b[0;31mValueError\u001b[0m                                Traceback (most recent call last)",
      "\u001b[0;32m<ipython-input-9-b75433e84bc4>\u001b[0m in \u001b[0;36m<module>\u001b[0;34m()\u001b[0m\n\u001b[1;32m      1\u001b[0m \u001b[0;34m\u001b[0m\u001b[0m\n\u001b[0;32m----> 2\u001b[0;31m \u001b[0mreducida\u001b[0m \u001b[0;34m=\u001b[0m \u001b[0mim\u001b[0m\u001b[0;34m.\u001b[0m\u001b[0mresize\u001b[0m\u001b[0;34m(\u001b[0m\u001b[0;34m(\u001b[0m\u001b[0;36m10\u001b[0m\u001b[0;34m,\u001b[0m\u001b[0;36m10\u001b[0m\u001b[0;34m)\u001b[0m\u001b[0;34m)\u001b[0m\u001b[0;34m\u001b[0m\u001b[0m\n\u001b[0m",
      "\u001b[0;31mValueError\u001b[0m: cannot resize this array: it does not own its data"
     ]
    }
   ],
   "source": [
    "from skimage import data\n",
    "from skimage.transform import rescale\n",
    "rescale(a)"
   ]
  },
  {
   "cell_type": "markdown",
   "metadata": {},
   "source": [
    "# Dataset"
   ]
  },
  {
   "cell_type": "code",
   "execution_count": 43,
   "metadata": {},
   "outputs": [
    {
     "name": "stdout",
     "output_type": "stream",
     "text": [
      "784\n",
      "60000\n"
     ]
    }
   ],
   "source": [
    "X_train=mnist['data'][0:60000]\n",
    "Y_train=mnist['target'][0:60000]\n",
    "print(X_train.shape[1])\n",
    "print (Y_train.shape[0])\n",
    "X_test=mnist['data'][60000:70000]\n",
    "Y_test=mnist['target'][60000:70000]\n"
   ]
  },
  {
   "cell_type": "markdown",
   "metadata": {},
   "source": [
    "# KNN testing"
   ]
  },
  {
   "cell_type": "code",
   "execution_count": 31,
   "metadata": {
    "collapsed": true
   },
   "outputs": [],
   "source": [
    "Y_pred = np.zeros(10000) \n",
    "for n in range(10000):\n",
    "    resta = X_train - X_test[n]\n",
    "    cuadrado = np.power(resta,2)\n",
    "    suma = np.sum(cuadrado, axis=1)\n",
    "    Y_pred[n] = Y_train[suma.argmin()]\n",
    "    #Y_pred[n] = Y_train[(np.unravel_index(suma.argmin(), suma.shape))]\n"
   ]
  },
  {
   "cell_type": "markdown",
   "metadata": {},
   "source": [
    "# KNN\n",
    "\n",
    "\n"
   ]
  },
  {
   "cell_type": "code",
   "execution_count": null,
   "metadata": {
    "collapsed": true
   },
   "outputs": [],
   "source": [
    "from sklearn.neighbors import KNeighborsClassifier\n",
    "neigh = KNeighborsClassifier(n_neighbors=3, n_jobs = -1)\n",
    "neigh.fit(X_train, Y_train)\n",
    "Y_pred = neigh.predict(X_test)\n"
   ]
  },
  {
   "cell_type": "markdown",
   "metadata": {},
   "source": [
    "# Clasificador lineal"
   ]
  },
  {
   "cell_type": "code",
   "execution_count": null,
   "metadata": {
    "collapsed": true
   },
   "outputs": [],
   "source": [
    "from sklearn.svm import SVC\n",
    "clf = SVC()\n",
    "clf.fit(X_train, Y_train)\n",
    "Y_pred = clf.predict(X_test)\n"
   ]
  },
  {
   "cell_type": "code",
   "execution_count": 32,
   "metadata": {},
   "outputs": [
    {
     "name": "stdout",
     "output_type": "stream",
     "text": [
      "             precision    recall  f1-score   support\n",
      "\n",
      "        0.0       0.10      1.00      0.18       980\n",
      "        1.0       0.00      0.00      0.00      1135\n",
      "        2.0       0.00      0.00      0.00      1032\n",
      "        3.0       0.00      0.00      0.00      1010\n",
      "        4.0       0.00      0.00      0.00       982\n",
      "        5.0       0.00      0.00      0.00       892\n",
      "        6.0       0.00      0.00      0.00       958\n",
      "        7.0       0.00      0.00      0.00      1028\n",
      "        8.0       0.00      0.00      0.00       974\n",
      "        9.0       0.00      0.00      0.00      1009\n",
      "\n",
      "avg / total       0.01      0.10      0.02     10000\n",
      "\n",
      "[[ 980    0    0    0    0    0    0    0    0    0]\n",
      " [1135    0    0    0    0    0    0    0    0    0]\n",
      " [1032    0    0    0    0    0    0    0    0    0]\n",
      " [1010    0    0    0    0    0    0    0    0    0]\n",
      " [ 982    0    0    0    0    0    0    0    0    0]\n",
      " [ 892    0    0    0    0    0    0    0    0    0]\n",
      " [ 958    0    0    0    0    0    0    0    0    0]\n",
      " [1028    0    0    0    0    0    0    0    0    0]\n",
      " [ 974    0    0    0    0    0    0    0    0    0]\n",
      " [1009    0    0    0    0    0    0    0    0    0]]\n"
     ]
    },
    {
     "name": "stderr",
     "output_type": "stream",
     "text": [
      "/home/cesar/.local/lib/python3.5/site-packages/sklearn/metrics/classification.py:1135: UndefinedMetricWarning: Precision and F-score are ill-defined and being set to 0.0 in labels with no predicted samples.\n",
      "  'precision', 'predicted', average, warn_for)\n"
     ]
    }
   ],
   "source": [
    "from sklearn.metrics import classification_report\n",
    "from sklearn.metrics import confusion_matrix\n",
    "print(classification_report(Y_test, Y_pred))\n",
    "print(confusion_matrix(Y_test, Y_pred) )"
   ]
  },
  {
   "cell_type": "markdown",
   "metadata": {},
   "source": [
    "# Test matrix"
   ]
  },
  {
   "cell_type": "code",
   "execution_count": 8,
   "metadata": {},
   "outputs": [
    {
     "name": "stdout",
     "output_type": "stream",
     "text": [
      "[[-1 -1]\n",
      " [-2 -1]\n",
      " [ 1  1]\n",
      " [ 2  1]]\n",
      "[1 1 2 2]\n",
      "[2]\n"
     ]
    }
   ],
   "source": [
    "import numpy as np\n",
    "X = np.array([[-1, -1], [-2, -1], [1, 1], [2, 1]])\n",
    "print(X)\n",
    "y = np.array([1, 1, 2, 2])\n",
    "print (y)\n",
    "from sklearn.svm import SVC\n",
    "clf = SVC()\n",
    "clf.fit(X, y) \n",
    "SVC(C=1.0, cache_size=200, class_weight=None, coef0=0.0,\n",
    "    decision_function_shape='ovr', degree=3, gamma='auto', kernel='rbf',\n",
    "    max_iter=-2, probability=False, random_state=None, shrinking=True,\n",
    "    tol=0.001, verbose=False)\n",
    "print(clf.predict([[-0.8, 1]]))\n",
    "\n"
   ]
  },
  {
   "cell_type": "code",
   "execution_count": null,
   "metadata": {
    "collapsed": true
   },
   "outputs": [],
   "source": []
  },
  {
   "cell_type": "code",
   "execution_count": null,
   "metadata": {
    "collapsed": true
   },
   "outputs": [],
   "source": []
  }
 ],
 "metadata": {
  "kernelspec": {
   "display_name": "Python 3",
   "language": "python",
   "name": "python3"
  },
  "language_info": {
   "codemirror_mode": {
    "name": "ipython",
    "version": 3
   },
   "file_extension": ".py",
   "mimetype": "text/x-python",
   "name": "python",
   "nbconvert_exporter": "python",
   "pygments_lexer": "ipython3",
   "version": "3.5.2"
  }
 },
 "nbformat": 4,
 "nbformat_minor": 2
}
